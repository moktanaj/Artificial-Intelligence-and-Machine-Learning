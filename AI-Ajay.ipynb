{
 "cells": [
  {
   "cell_type": "markdown",
   "metadata": {
    "id": "kGqo3ICFQAje"
   },
   "source": [
    "\n",
    "\n",
    "This assignment is submitted by:\n",
    "\n",
    "Timothy Jeoung n10887601\n",
    "\n",
    "Ajay Moktan    n10349561\n",
    "\n"
   ]
  },
  {
   "cell_type": "code",
   "execution_count": null,
   "metadata": {
    "id": "8KrphqKpar3r"
   },
   "outputs": [],
   "source": [
    "# !unzip omniglot.zip"
   ]
  },
  {
   "cell_type": "markdown",
   "metadata": {
    "id": "ox2OMf9JHavF"
   },
   "source": [
    "### Importing Modules"
   ]
  },
  {
   "cell_type": "code",
   "execution_count": null,
   "metadata": {
    "id": "bS-kf7_WHSeX"
   },
   "outputs": [],
   "source": [
    "import os\n",
    "import numpy as np\n",
    "import tensorflow as tf\n",
    "\n",
    "# visualizations\n",
    "import matplotlib.pyplot as plt"
   ]
  },
  {
   "cell_type": "markdown",
   "metadata": {
    "id": "hU51-BG_Zn6c"
   },
   "source": [
    "# Hyper parameters for all experiments"
   ]
  },
  {
   "cell_type": "code",
   "execution_count": null,
   "metadata": {
    "id": "yidf3sAaZnic"
   },
   "outputs": [],
   "source": [
    "# margin of contrastive or triplet loss\n",
    "margin = 1\n",
    "# training batch size\n",
    "batch_size = 64\n",
    "# batch size during validation in training\n",
    "valid_batch_size = 2\n",
    "# batch size for qualitative comparisons\n",
    "test_batch_size = 5\n",
    "# learning rate of Adam optimizer\n",
    "Adam_lr = 0.005\n",
    "# training iteration over the dataset\n",
    "epochs = 10\n",
    "# how many samples per iteration of dataset\n",
    "steps_per_epoch = 256\n",
    "# L2 regularization constant\n",
    "weight_decay = 0.1"
   ]
  },
  {
   "cell_type": "markdown",
   "metadata": {
    "id": "A-yLSm3MiAW9"
   },
   "source": [
    "##Loading and Splitting data"
   ]
  },
  {
   "cell_type": "code",
   "execution_count": null,
   "metadata": {
    "colab": {
     "base_uri": "https://localhost:8080/"
    },
    "id": "i0HZA3XZJODB",
    "outputId": "b185faf3-2ffe-45b4-ac5d-94d96472338a"
   },
   "outputs": [
    {
     "name": "stdout",
     "output_type": "stream",
     "text": [
      "Train data loaded shape: (17100,), train labels shape: (17100, 2)\n",
      "Test data loaded shape: (13180,), test labels shape: (13180, 2)\n"
     ]
    }
   ],
   "source": [
    "def load_data(path):\n",
    "    \"\"\"loading images and characters and alphabets.\n",
    "\n",
    "    Args:\n",
    "        path (str): path of the dataset\n",
    "\n",
    "    Returns:\n",
    "        (np.array): images\n",
    "        (np.array): alphabets and characters\n",
    "        (np.array): alphabets\n",
    "    \"\"\"\n",
    "    X = []\n",
    "    Y = []\n",
    "    Alphabets = []\n",
    "    a = 0\n",
    "    c = 0\n",
    "    for d_a in os.listdir(path):\n",
    "        for d_c in os.listdir(os.path.join(path, d_a)):\n",
    "            for d_f in os.listdir(os.path.join(path, d_a, d_c)):\n",
    "                Y.append([a, c])\n",
    "                X.append(os.path.join(path, d_a, d_c, d_f))\n",
    "                Alphabets.append(d_a)\n",
    "            c += 1\n",
    "        a += 1\n",
    "    return np.array(X), np.array(Y), np.array(Alphabets)\n",
    "\n",
    "def split(data, labels, *largs):\n",
    "    \"\"\"Split the data to train and validation.\n",
    "\n",
    "    Args:\n",
    "        data (np.array): training images\n",
    "        labesl (np.array): training alphabets\n",
    "\n",
    "    Returns:\n",
    "        (np.array): train images\n",
    "        (np.array): train labesls\n",
    "        (np.array): valid images\n",
    "        (np.array): valid labesls\n",
    "    \"\"\"\n",
    "    m = np.max(labels[:, 0])\n",
    "    # split to 10-90%\n",
    "    dev_size = int(np.ceil(m / 10))\n",
    "    mask = np.isin(labels[:, 0], np.random.randint(m, size=dev_size))\n",
    "    return data[~mask], labels[~mask], data[mask], labels[mask]\n",
    "\n",
    "\n",
    "#60% with 30 alphabets (from 60% make 12% of validation set)\n",
    "train_path = './omniglot/images_background' \n",
    "#40% with 20 alphabets used this for testing (not trained at all prediction)\n",
    "test_path = './omniglot/images_evaluation'\n",
    "\n",
    "X_test, Y_test, Alphabets = load_data(test_path)\n",
    "\n",
    "X_train, Y_train, Alphabets_train = load_data(train_path)\n",
    "\n",
    "X_combined = np.concatenate([X_train, X_test]) \n",
    "Y_combined = np.concatenate([Y_train, Y_test])\n",
    "Alphabets_combined = np.concatenate([Alphabets_train, Alphabets])\n",
    "\n",
    "X_train, Y_train, X_val, Y_val = split(*load_data(train_path))\n",
    "\n",
    "print(f'Train data loaded shape: {X_train.shape}, train labels shape: {Y_train.shape}')\n",
    "print(f'Test data loaded shape: {X_test.shape}, test labels shape: {Y_test.shape}')"
   ]
  },
  {
   "cell_type": "markdown",
   "metadata": {
    "id": "xspZHbvBK3C2"
   },
   "source": [
    "## Utility methods"
   ]
  },
  {
   "cell_type": "code",
   "execution_count": null,
   "metadata": {
    "id": "7aR8fLIjKk5w"
   },
   "outputs": [],
   "source": [
    "def print_cl_batch(images, labels):\n",
    "    \"\"\"displays the contrastive pairs of images with labels.\n",
    "\n",
    "    Args:\n",
    "        images (np.array): batch of images\n",
    "        labels (np.array): batch of labels\n",
    "    \"\"\"\n",
    "    x1, x2 = images\n",
    "    fig = plt.figure(figsize=(8, 15))\n",
    "    for i in range(1):\n",
    "        ax = fig.add_subplot(5, 2, i*2 + 1)\n",
    "        ax.set_title('Element 1')\n",
    "        ax.imshow((x1[i]).astype(np.uint8))\n",
    "        ax = fig.add_subplot(5, 2, i*2 + 2)\n",
    "        ax.set_title('Element 2')\n",
    "        ax.imshow((x2[i]).astype(np.uint8))\n",
    "    plt.show()\n",
    "\n",
    "def print_tl_batch(images, labels):\n",
    "    \"\"\"displays the triplets of images with labels.\n",
    "\n",
    "    Args:\n",
    "        images (np.array): batch of images\n",
    "        labels (np.array): batch of labels\n",
    "    \"\"\"\n",
    "    a, p, n = images\n",
    "    fig = plt.figure(figsize=(8, 15))\n",
    "    for i in range(1):\n",
    "        ax = fig.add_subplot(5, 3, i*3 + 1)\n",
    "        ax.set_title(f'Anchor, id: {labels[i]}')\n",
    "        ax.imshow((a[i]).astype(np.uint8))\n",
    "        ax = fig.add_subplot(5, 3, i*3 + 2)\n",
    "        ax.set_title('Positive')\n",
    "        ax.imshow((p[i]).astype(np.uint8))\n",
    "        ax = fig.add_subplot(5, 3, i*3 + 3)\n",
    "        ax.set_title('Negative')\n",
    "        ax.imshow((n[i]).astype(np.uint8))\n",
    "    plt.show()\n",
    "\n",
    "def shuffle(arr):\n",
    "    np.random.shuffle(arr)\n",
    "    return arr\n",
    "\n",
    "def load_image(file):\n",
    "    image = tf.keras.preprocessing.image.load_img(file)\n",
    "    return tf.keras.preprocessing.image.img_to_array(image)"
   ]
  },
  {
   "cell_type": "markdown",
   "metadata": {
    "id": "9YPw9PEVLfMB"
   },
   "source": [
    "## Base Network"
   ]
  },
  {
   "cell_type": "code",
   "execution_count": null,
   "metadata": {
    "id": "6P-Ed74ULevb"
   },
   "outputs": [],
   "source": [
    "from keras.regularizers import l2\n",
    "\n",
    "def build_network():\n",
    "    \"\"\"network builder.\n",
    "\n",
    "    Returns:\n",
    "        (keras): Keras CNN model\n",
    "    \"\"\"   \n",
    "    branch = tf.keras.Sequential()\n",
    "    branch.add(tf.keras.layers.Lambda(lambda x: x / 255.0))\n",
    "    branch.add(tf.keras.layers.Conv2D(64, (5, 5), padding='valid', kernel_initializer='he_normal',\n",
    "                                      kernel_regularizer=l2(weight_decay), bias_regularizer=l2(weight_decay)))\n",
    "    branch.add(tf.keras.layers.BatchNormalization())\n",
    "    branch.add(tf.keras.layers.Activation('relu'))\n",
    "    branch.add(tf.keras.layers.ZeroPadding2D(padding=(1, 1)))\n",
    "    branch.add(tf.keras.layers.MaxPooling2D((2, 2), strides=(2, 2)))\n",
    "    \n",
    "    branch.add(tf.keras.layers.Conv2D(64, (3, 3), padding='same', kernel_initializer='he_normal',\n",
    "                                      kernel_regularizer=l2(weight_decay), bias_regularizer=l2(weight_decay)))\n",
    "    branch.add(tf.keras.layers.Activation('relu'))    \n",
    "    branch.add(tf.keras.layers.Conv2D(64, (3, 3), padding='same', kernel_initializer='he_normal',\n",
    "                                      kernel_regularizer=l2(weight_decay), bias_regularizer=l2(weight_decay)))\n",
    "    branch.add(tf.keras.layers.BatchNormalization())\n",
    "    branch.add(tf.keras.layers.Activation('relu'))\n",
    "    branch.add(tf.keras.layers.Conv2D(256, (5, 5), padding='valid', kernel_initializer='he_normal',\n",
    "                                      kernel_regularizer=l2(weight_decay), bias_regularizer=l2(weight_decay)))\n",
    "    branch.add(tf.keras.layers.BatchNormalization())\n",
    "    branch.add(tf.keras.layers.Activation('relu'))\n",
    "    branch.add(tf.keras.layers.MaxPooling2D((2, 2), strides=(2, 2)))\n",
    "    \n",
    "    branch.add(tf.keras.layers.Conv2D(64, (3, 3), padding='same', kernel_initializer='he_normal',\n",
    "                                      kernel_regularizer=l2(weight_decay), bias_regularizer=l2(weight_decay)))\n",
    "    branch.add(tf.keras.layers.BatchNormalization())\n",
    "    branch.add(tf.keras.layers.Activation('relu'))    \n",
    "    branch.add(tf.keras.layers.Conv2D(64, (3, 3), padding='same', kernel_initializer='he_normal',\n",
    "                                      kernel_regularizer=l2(weight_decay), bias_regularizer=l2(weight_decay)))\n",
    "    branch.add(tf.keras.layers.BatchNormalization())\n",
    "    branch.add(tf.keras.layers.Activation('relu'))\n",
    "    branch.add(tf.keras.layers.Conv2D(256, (3, 3), padding='valid', kernel_initializer='he_normal',\n",
    "                                      kernel_regularizer=l2(weight_decay), bias_regularizer=l2(weight_decay)))\n",
    "    branch.add(tf.keras.layers.BatchNormalization())\n",
    "    branch.add(tf.keras.layers.Activation('relu'))\n",
    "    branch.add(tf.keras.layers.MaxPooling2D((2, 2), strides=(2, 2)))\n",
    "    \n",
    "    branch.add(tf.keras.layers.Conv2D(128, (3, 3), padding='same', kernel_initializer='he_normal',\n",
    "                                      kernel_regularizer=l2(weight_decay), bias_regularizer=l2(weight_decay)))\n",
    "    branch.add(tf.keras.layers.BatchNormalization())\n",
    "    branch.add(tf.keras.layers.Activation('relu'))\n",
    "    branch.add(tf.keras.layers.Conv2D(128, (3, 3), padding='same', kernel_initializer='he_normal',\n",
    "                                      kernel_regularizer=l2(weight_decay), bias_regularizer=l2(weight_decay)))\n",
    "    branch.add(tf.keras.layers.BatchNormalization())\n",
    "    branch.add(tf.keras.layers.Activation('relu'))\n",
    "    branch.add(tf.keras.layers.Conv2D(512, (3, 3), padding='valid', kernel_initializer='he_normal',\n",
    "                                      kernel_regularizer=l2(weight_decay), bias_regularizer=l2(weight_decay)))\n",
    "    branch.add(tf.keras.layers.BatchNormalization())\n",
    "    branch.add(tf.keras.layers.Activation('relu'))\n",
    "    branch.add(tf.keras.layers.MaxPooling2D((2, 2), strides=(2, 2)))\n",
    "    \n",
    "    branch.add(tf.keras.layers.GlobalAveragePooling2D())\n",
    "    \n",
    "    branch.add(tf.keras.layers.Dense(32, kernel_initializer='he_normal'))\n",
    "    branch.add(tf.keras.layers.BatchNormalization())\n",
    "    branch.add(tf.keras.layers.Lambda(lambda x: tf.math.l2_normalize(x, axis=1)))\n",
    "    return branch"
   ]
  },
  {
   "cell_type": "markdown",
   "metadata": {
    "id": "K5qAtUY_Ll3_"
   },
   "source": [
    "## Contrastive loss data generator"
   ]
  },
  {
   "cell_type": "code",
   "execution_count": null,
   "metadata": {
    "id": "043ygA7ILlne"
   },
   "outputs": [],
   "source": [
    "class PairDataGenerator(tf.keras.utils.Sequence):\n",
    "    def __init__(self, data, labels, batch_size, steps_per_epoch):\n",
    "        self.data = data\n",
    "        self.labels = labels\n",
    "        self.batch_size = batch_size\n",
    "        self.steps_per_epoch = steps_per_epoch\n",
    "\n",
    "    def __len__(self):\n",
    "        return self.steps_per_epoch\n",
    "\n",
    "    def __get_geneuine_pairs__(self, char_ids):\n",
    "        def mask(char_id):\n",
    "            m = self.labels == self.labels[char_id]\n",
    "            m[char_id] = False\n",
    "            return m\n",
    "        def rand_file(files):\n",
    "            return shuffle(files)[0]\n",
    "        return [load_image(file) for file in self.data[char_ids]], [load_image(rand_file(self.data[mask(idx)])) for idx in char_ids], [True for _ in range(len(char_ids))]\n",
    "\n",
    "    def __get_imposter_pairs__(self, char_ids):\n",
    "        mask = np.isin(self.labels, self.labels[char_ids])\n",
    "        imposters = shuffle(self.data[~mask])[:len(char_ids)]\n",
    "        return [load_image(file) for file in self.data[char_ids]], [load_image(file) for file in imposters], [False for _ in range(len(char_ids))]\n",
    "\n",
    "    def __getitem__(self, index):\n",
    "        \"\"\"Return one pair with labels.\n",
    "\n",
    "        Args:\n",
    "            index (int): sample number\n",
    "\n",
    "        Returns:\n",
    "            (list): pair of images\n",
    "            (np.array): label of pair (matching or not)\n",
    "        \"\"\"\n",
    "        char_ids = np.random.randint(len(self.labels), size=self.batch_size)\n",
    "        half = int(self.batch_size / 2)\n",
    "        x_1, x_2, y = self.__get_geneuine_pairs__(char_ids[:half])\n",
    "        a, b, c = self.__get_imposter_pairs__(char_ids[half:])\n",
    "        x_1.extend(a)\n",
    "        x_2.extend(b)\n",
    "        y.extend(c)\n",
    "        return [np.array(x_1), np.array(x_2)], np.array(y)\n",
    "\n",
    "\n",
    "def euclidean_distance(vects):\n",
    "    x, y = vects\n",
    "    sum_square = tf.reduce_sum(tf.math.square(x - y), axis=1)\n",
    "    return tf.sqrt(tf.maximum(sum_square, 1e-16))\n",
    "\n",
    "\n",
    "def eucl_dist_output_shape(shapes):\n",
    "    shape1, shape2 = shapes\n",
    "    return (shape1[0], 1)\n",
    "\n",
    "def contrastive_loss(margin):\n",
    "    \"\"\"how to penalize predictions.\n",
    "\n",
    "    Args:\n",
    "        margin (float): distance allowed between prediction and true value \n",
    "\n",
    "    Returns:\n",
    "        (tf.float): loss according to the standard contrastive loss\n",
    "    \"\"\"\n",
    "    def loss(y_true, y_pred):\n",
    "        y_true = tf.cast(y_true, dtype=tf.float32)\n",
    "        square_pred = tf.math.square(y_pred)\n",
    "        margin_square = tf.math.square(tf.maximum(margin - y_pred, 0.0))\n",
    "        return tf.reduce_mean(y_true * square_pred + (1 - y_true) * margin_square)\n",
    "    return loss"
   ]
  },
  {
   "cell_type": "code",
   "execution_count": null,
   "metadata": {
    "colab": {
     "base_uri": "https://localhost:8080/",
     "height": 204
    },
    "id": "GxJcWS3qLXOo",
    "outputId": "0d75ccca-d97e-470d-ca47-7500bdee68e1"
   },
   "outputs": [
    {
     "data": {
      "image/png": "[encoded data removed]",
      "text/plain": [
       "<Figure size 576x1080 with 2 Axes>"
      ]
     },
     "metadata": {
      "needs_background": "light"
     },
     "output_type": "display_data"
    }
   ],
   "source": [
    "# creating the training and validation generators \n",
    "cl_train_gen = PairDataGenerator(X_train, Y_train[:, 0], batch_size, steps_per_epoch) \n",
    "cl_dev_gen = PairDataGenerator(X_val, Y_val[:, 0], valid_batch_size, valid_batch_size) \n",
    "cl_test_gen = PairDataGenerator(X_test, Y_test[:, 0], valid_batch_size, steps_per_epoch)\n",
    "cl_combined_gen = PairDataGenerator(X_combined, Y_combined[:, 0], valid_batch_size, steps_per_epoch)\n",
    "[x1, x2], y = cl_train_gen.__getitem__(0)\n",
    "# visualizing some examples\n",
    "print_cl_batch(*cl_train_gen.__getitem__(0))"
   ]
  },
  {
   "cell_type": "code",
   "execution_count": null,
   "metadata": {
    "id": "WC2yfzYgLtO4"
   },
   "outputs": [],
   "source": [
    "# building the siamese network\n",
    "x_in_1 = tf.keras.Input((105, 105, 3))\n",
    "x_in_2 = tf.keras.Input((105, 105, 3))\n",
    "\n",
    "branch = build_network()\n",
    "branch_1 = branch(x_in_1)\n",
    "branch_2 = branch(x_in_2)\n",
    "x_out = tf.keras.layers.Lambda(euclidean_distance, output_shape=eucl_dist_output_shape)([branch_1, branch_2])\n",
    "\n",
    "siamese_model_1 = tf.keras.Model([x_in_1, x_in_2], x_out)\n",
    "\n",
    "# defing the optimizer\n",
    "optimizer = tf.keras.optimizers.Adam(learning_rate=Adam_lr)\n",
    "\n",
    "# compiling the network with loss and optimizers\n",
    "siamese_model_1.compile(optimizer=optimizer, loss=contrastive_loss(margin))"
   ]
  },
  {
   "cell_type": "code",
   "execution_count": null,
   "metadata": {
    "colab": {
     "base_uri": "https://localhost:8080/"
    },
    "id": "eRuPs2-5NPGG",
    "outputId": "67b4ce88-5a1f-4424-b649-be3f19d05a5e"
   },
   "outputs": [
    {
     "name": "stderr",
     "output_type": "stream",
     "text": [
      "/usr/local/lib/python3.7/dist-packages/keras/engine/training.py:1972: UserWarning: `Model.fit_generator` is deprecated and will be removed in a future version. Please use `Model.fit`, which supports generators.\n",
      "  warnings.warn('`Model.fit_generator` is deprecated and '\n"
     ]
    },
    {
     "name": "stdout",
     "output_type": "stream",
     "text": [
      "Epoch 1/10\n",
      "256/256 [==============================] - 35s 123ms/step - loss: 11.6226 - val_loss: 1.2412\n",
      "Epoch 2/10\n",
      "256/256 [==============================] - 31s 121ms/step - loss: 0.9235 - val_loss: 1.0624\n",
      "Epoch 3/10\n",
      "256/256 [==============================] - 31s 121ms/step - loss: 0.9300 - val_loss: 1.1339\n",
      "Epoch 4/10\n",
      "256/256 [==============================] - 31s 120ms/step - loss: 0.9116 - val_loss: 1.3391\n",
      "Epoch 5/10\n",
      "256/256 [==============================] - 31s 120ms/step - loss: 0.8712 - val_loss: 1.1936\n",
      "Epoch 6/10\n",
      "256/256 [==============================] - 31s 120ms/step - loss: 0.8918 - val_loss: 1.1437\n",
      "Epoch 7/10\n",
      "256/256 [==============================] - 31s 120ms/step - loss: 0.7711 - val_loss: 1.0137\n",
      "Epoch 8/10\n",
      "256/256 [==============================] - 31s 120ms/step - loss: 0.7896 - val_loss: 1.1442\n",
      "Epoch 9/10\n",
      "256/256 [==============================] - 31s 120ms/step - loss: 0.6645 - val_loss: 0.8008\n",
      "Epoch 10/10\n",
      "256/256 [==============================] - 31s 120ms/step - loss: 0.7060 - val_loss: 1.0537\n"
     ]
    }
   ],
   "source": [
    "def scheduler(epoch, lr):\n",
    "    \"\"\"the learning rate schedule on how to decay during training.\n",
    "\n",
    "    Args:\n",
    "        epoch (int): number of training iterations\n",
    "        lr (float): the initial learning\n",
    "\n",
    "    Returns:\n",
    "        (float): the decayed learning rate\n",
    "    \"\"\"\n",
    "    return lr * 0.8 if epoch % 2 == 0 else lr\n",
    "\n",
    "# training starts\n",
    "siamese_history_1 = siamese_model_1.fit_generator(\n",
    "                    generator=cl_train_gen,\n",
    "                    validation_data=cl_dev_gen,\n",
    "                    epochs=epochs,\n",
    "                    verbose=1,\n",
    "                    callbacks=[tf.keras.callbacks.LearningRateScheduler(scheduler)]\n",
    "                )"
   ]
  },
  {
   "cell_type": "code",
   "execution_count": null,
   "metadata": {
    "colab": {
     "base_uri": "https://localhost:8080/",
     "height": 295
    },
    "id": "y4K9LLtw6Ab6",
    "outputId": "ad1649d0-60df-4e1a-bdbb-29c489dd6770"
   },
   "outputs": [
    {
     "data": {
      "image/png": "[encoded data removed]",
      "text/plain": [
       "<Figure size 432x288 with 1 Axes>"
      ]
     },
     "metadata": {
      "needs_background": "light"
     },
     "output_type": "display_data"
    }
   ],
   "source": [
    "def plt_metric(history, metric, title, has_valid=True):\n",
    "    \"\"\"Plots the given 'metric' from 'history'\n",
    "\n",
    "    Arguments:\n",
    "        history: history attribute of History object returned from Model.fit.\n",
    "        metric: Metric to plot, a string value present as key in 'history'.\n",
    "        title: A string to be used as title of plot.\n",
    "        has_valid: Boolean, true if valid data was passed to Model.fit else false.\n",
    "    \"\"\"\n",
    "    plt.plot(history[metric])\n",
    "    if has_valid:\n",
    "        plt.plot(history[\"val_\" + metric])\n",
    "        plt.legend([\"train\", \"validation\"], loc=\"upper left\")\n",
    "    plt.title(title)\n",
    "    plt.ylabel(metric)\n",
    "    plt.xlabel(\"epoch\")\n",
    "    plt.show()\n",
    "\n",
    "\n",
    "# Plot the training loss\n",
    "plt_metric(history=siamese_history_1.history, metric=\"loss\", title=\"Constrastive Loss\")"
   ]
  },
  {
   "cell_type": "code",
   "execution_count": null,
   "metadata": {
    "colab": {
     "base_uri": "https://localhost:8080/"
    },
    "id": "LgsP7666TyI7",
    "outputId": "1d9a3d1b-8c8c-40e8-d7e6-367eef53f024"
   },
   "outputs": [
    {
     "name": "stdout",
     "output_type": "stream",
     "text": [
      "Train loss: 0.4506465792655945\n"
     ]
    }
   ],
   "source": [
    "# compute performance on training dataset\n",
    "loss = 0\n",
    "loss_fn = contrastive_loss(margin)\n",
    "for i, batch in enumerate(cl_train_gen):\n",
    "  predictions = siamese_model_1.predict(batch[0], verbose=0)\n",
    "  predictions = tf.convert_to_tensor(predictions)\n",
    "  loss += loss_fn(batch[1], predictions)\n",
    "\n",
    "print(f'Train loss: {loss/(i+1)}')"
   ]
  },
  {
   "cell_type": "code",
   "execution_count": null,
   "metadata": {
    "colab": {
     "base_uri": "https://localhost:8080/"
    },
    "id": "dGb36XvYTjBD",
    "outputId": "fbd41d99-5c2f-40a2-cab8-1f311255e7e0"
   },
   "outputs": [
    {
     "name": "stdout",
     "output_type": "stream",
     "text": [
      "All dataset loss: 0.4570419490337372\n"
     ]
    }
   ],
   "source": [
    "# compute performance on test dataset\n",
    "loss = 0\n",
    "for i, batch in enumerate(cl_combined_gen):\n",
    "  predictions = siamese_model_1.predict(batch[0], verbose=0)\n",
    "  predictions = tf.convert_to_tensor(predictions)\n",
    "  loss += loss_fn(batch[1], predictions)\n",
    "\n",
    "print(f'All dataset loss: {loss/(i+1)}')"
   ]
  },
  {
   "cell_type": "code",
   "execution_count": null,
   "metadata": {
    "colab": {
     "base_uri": "https://localhost:8080/"
    },
    "id": "2B2H026kejDc",
    "outputId": "8712ebdb-1f10-4075-926d-848a1083306a"
   },
   "outputs": [
    {
     "name": "stdout",
     "output_type": "stream",
     "text": [
      "Test loss: 0.45406627655029297\n"
     ]
    }
   ],
   "source": [
    "# compute performance on test dataset\n",
    "loss = 0\n",
    "for i, batch in enumerate(cl_test_gen):\n",
    "  predictions = siamese_model_1.predict(batch[0], verbose=0)\n",
    "  predictions = tf.convert_to_tensor(predictions)\n",
    "  loss += loss_fn(batch[1], predictions)\n",
    "\n",
    "print(f'Test loss: {loss/(i+1)}')"
   ]
  },
  {
   "cell_type": "code",
   "execution_count": null,
   "metadata": {
    "colab": {
     "base_uri": "https://localhost:8080/",
     "height": 238
    },
    "id": "rY9enfmtSZ8I",
    "outputId": "376f54f9-9561-46f6-dfd0-bcb328ce0cd0"
   },
   "outputs": [
    {
     "name": "stdout",
     "output_type": "stream",
     "text": [
      "Contrastive loss:  0.91474867\n",
      "Label is:  [False]\n"
     ]
    },
    {
     "data": {
      "image/png": "[encoded data removed]",
      "text/plain": [
       "<Figure size 576x1080 with 2 Axes>"
      ]
     },
     "metadata": {
      "needs_background": "light"
     },
     "output_type": "display_data"
    }
   ],
   "source": [
    "cl_vis_gen = PairDataGenerator(X_test, Y_test[:, 0], 1, steps_per_epoch)\n",
    "loss_fn = contrastive_loss(margin)\n",
    "for batch in cl_vis_gen:\n",
    "  predictions = siamese_model_1.predict(batch[0], verbose=0)\n",
    "  predictions = tf.convert_to_tensor(predictions)\n",
    "  loss = loss_fn(batch[1], predictions)\n",
    "  print('Contrastive loss: ', loss.numpy())\n",
    "  print('Label is: ', batch[1])\n",
    "  print_cl_batch(*batch)\n",
    "  break\n"
   ]
  },
  {
   "cell_type": "markdown",
   "metadata": {
    "id": "86KlFgSaR7tO"
   },
   "source": [
    "## Triplet loss data generator"
   ]
  },
  {
   "cell_type": "code",
   "execution_count": null,
   "metadata": {
    "id": "mxyWQuIuRz8V"
   },
   "outputs": [],
   "source": [
    "class TripletDataGenerator(tf.keras.utils.Sequence):\n",
    "    \n",
    "    def __init__(self, data, labels, batch_size, steps_per_epoch):\n",
    "        self.data = data\n",
    "        self.labels = labels\n",
    "        self.batch_size = batch_size\n",
    "        self.steps_per_epoch = steps_per_epoch\n",
    "        \n",
    "    def __len__(self):\n",
    "        return self.steps_per_epoch\n",
    "    \n",
    "    def __gettriplet__(self, char_id):\n",
    "        mask = self.labels[:, 0] == char_id\n",
    "        ap = shuffle(self.data[mask])[:2]\n",
    "        n = shuffle(self.data[~mask])[0]\n",
    "        return load_image(ap[0]), load_image(ap[1]), load_image(n)\n",
    "    \n",
    "    def __getitem__(self, index):\n",
    "        \"\"\"get one triplet images and label.\n",
    "\n",
    "        Args:\n",
    "            index (int): index of the triplet in the dataset\n",
    "\n",
    "        Returns:\n",
    "            (list): triplet of the images\n",
    "            (np.array): anchor IDs\n",
    "        \"\"\"\n",
    "        char_ids = np.unique(self.labels[:, 0])\n",
    "        anchor_ids = shuffle(char_ids)[:self.batch_size]\n",
    "        x_a = []\n",
    "        x_p = []\n",
    "        x_n = []\n",
    "        for char_id in anchor_ids:\n",
    "            a, p, n = self.__gettriplet__(char_id)\n",
    "            x_a.append(a)\n",
    "            x_p.append(p)\n",
    "            x_n.append(n)\n",
    "        x_a = np.array(x_a)\n",
    "        x_p = np.array(x_p)\n",
    "        x_n = np.array(x_n)\n",
    "        return [x_a, x_p, x_n], anchor_ids\n",
    "\n",
    "def euclidian_distance(v1, v2):\n",
    "    return tf.sqrt(tf.reduce_sum(tf.square(v1 - v2), axis=-1) + 1e-16)\n",
    "\n",
    "def triplet_loss(margin):\n",
    "    \"\"\"The triplet loss implementation.\n",
    "\n",
    "    Args:\n",
    "        margin (float): allowed distance between the positive and negatives\n",
    "\n",
    "    Returns:\n",
    "        (tf.float): triplet loss of the batch\n",
    "    \"\"\"\n",
    "    def loss(y_true, y_pred):\n",
    "        total_lenght = y_pred.shape.as_list()[-1]\n",
    "        anchors = y_pred[:,0:int(total_lenght*1/3)]\n",
    "        positives = y_pred[:,int(total_lenght*1/3):int(total_lenght*2/3)]\n",
    "        negatives = y_pred[:,int(total_lenght*2/3):]\n",
    "        pos_dist = euclidian_distance(anchors, positives)\n",
    "        neg_dist = euclidian_distance(anchors, negatives)\n",
    "        return tf.reduce_mean(tf.maximum((pos_dist - neg_dist) + margin, 0.0))\n",
    "    return loss"
   ]
  },
  {
   "cell_type": "code",
   "execution_count": null,
   "metadata": {
    "colab": {
     "base_uri": "https://localhost:8080/",
     "height": 195
    },
    "id": "8R-TDldeSABt",
    "outputId": "fd05e0bd-1619-4f35-e852-4c2e3703c26f"
   },
   "outputs": [
    {
     "data": {
      "image/png": "[encoded data removed]",
      "text/plain": [
       "<Figure size 576x1080 with 3 Axes>"
      ]
     },
     "metadata": {
      "needs_background": "light"
     },
     "output_type": "display_data"
    }
   ],
   "source": [
    "# training and validation data generators\n",
    "tl_train_gen = TripletDataGenerator(X_train, Y_train, batch_size, steps_per_epoch)\n",
    "tl_valid_gen = TripletDataGenerator(X_val, Y_val, valid_batch_size, steps_per_epoch)\n",
    "tl_test_gen = TripletDataGenerator(X_test, Y_test, valid_batch_size, steps_per_epoch)\n",
    "tl_combined_gen = TripletDataGenerator(X_combined, Y_combined, valid_batch_size, steps_per_epoch)\n",
    "print_tl_batch(*tl_train_gen.__getitem__(0))"
   ]
  },
  {
   "cell_type": "code",
   "execution_count": null,
   "metadata": {
    "id": "rIKMIk0FSB51"
   },
   "outputs": [],
   "source": [
    "# building the siames network with three branches\n",
    "x_in_a = tf.keras.Input((105, 105, 3))\n",
    "x_in_p = tf.keras.Input((105, 105, 3))\n",
    "x_in_n = tf.keras.Input((105, 105, 3))\n",
    "\n",
    "branch2 = build_network()\n",
    "branch_a = branch2(x_in_a)\n",
    "branch_p = branch2(x_in_p)\n",
    "branch_n = branch2(x_in_n)\n",
    "x_out = tf.keras.layers.Concatenate()([branch_a, branch_p, branch_n])\n",
    "siamese_model_2 = tf.keras.Model([x_in_a, x_in_p, x_in_n], x_out)\n",
    "\n",
    "# forming the optimizer and compiling with the model\n",
    "optimizer = tf.keras.optimizers.Adam(learning_rate=Adam_lr)\n",
    "siamese_model_2.compile(optimizer=optimizer, loss=triplet_loss(margin))"
   ]
  },
  {
   "cell_type": "code",
   "execution_count": null,
   "metadata": {
    "colab": {
     "base_uri": "https://localhost:8080/"
    },
    "id": "q3qhZdmSSHbt",
    "outputId": "ed951db4-e38c-4d0a-a8dd-f41bd20e1b4f"
   },
   "outputs": [
    {
     "name": "stderr",
     "output_type": "stream",
     "text": [
      "/usr/local/lib/python3.7/dist-packages/keras/engine/training.py:1972: UserWarning: `Model.fit_generator` is deprecated and will be removed in a future version. Please use `Model.fit`, which supports generators.\n",
      "  warnings.warn('`Model.fit_generator` is deprecated and '\n"
     ]
    },
    {
     "name": "stdout",
     "output_type": "stream",
     "text": [
      "Epoch 1/10\n",
      "256/256 [==============================] - 32s 113ms/step - loss: 13.0143 - val_loss: 4.2940\n",
      "Epoch 2/10\n",
      "256/256 [==============================] - 28s 111ms/step - loss: 3.5415 - val_loss: 3.1547\n",
      "Epoch 3/10\n",
      "256/256 [==============================] - 28s 111ms/step - loss: 2.8696 - val_loss: 2.6379\n",
      "Epoch 4/10\n",
      "256/256 [==============================] - 29s 111ms/step - loss: 3.0889 - val_loss: 3.0594\n",
      "Epoch 5/10\n",
      "256/256 [==============================] - 28s 111ms/step - loss: 2.6882 - val_loss: 2.4182\n",
      "Epoch 6/10\n",
      "256/256 [==============================] - 29s 111ms/step - loss: 2.4892 - val_loss: 2.5019\n",
      "Epoch 7/10\n",
      "256/256 [==============================] - 28s 110ms/step - loss: 2.1738 - val_loss: 2.6524\n",
      "Epoch 8/10\n",
      "256/256 [==============================] - 28s 111ms/step - loss: 2.0826 - val_loss: 2.2638\n",
      "Epoch 9/10\n",
      "256/256 [==============================] - 28s 111ms/step - loss: 2.0657 - val_loss: 2.4599\n",
      "Epoch 10/10\n",
      "256/256 [==============================] - 29s 114ms/step - loss: 1.8072 - val_loss: 2.1851\n"
     ]
    }
   ],
   "source": [
    "# training starts\n",
    "siamese_history_2 = siamese_model_2.fit_generator(\n",
    "                    generator=tl_train_gen,\n",
    "                    validation_data=tl_valid_gen,\n",
    "                    epochs=epochs,\n",
    "                    verbose=1,\n",
    "                    callbacks=[tf.keras.callbacks.LearningRateScheduler(scheduler)]\n",
    "                )"
   ]
  },
  {
   "cell_type": "code",
   "execution_count": null,
   "metadata": {
    "colab": {
     "base_uri": "https://localhost:8080/",
     "height": 295
    },
    "id": "XGJ9eIa34hlm",
    "outputId": "cc54117c-694f-4857-a6af-1402f21e0203"
   },
   "outputs": [
    {
     "data": {
      "image/png": "[encoded data removed]",
      "text/plain": [
       "<Figure size 432x288 with 1 Axes>"
      ]
     },
     "metadata": {
      "needs_background": "light"
     },
     "output_type": "display_data"
    }
   ],
   "source": [
    "# Plot the training loss\n",
    "plt_metric(history=siamese_history_2.history, metric=\"loss\", title=\"Triplet Loss\")"
   ]
  },
  {
   "cell_type": "code",
   "execution_count": null,
   "metadata": {
    "colab": {
     "base_uri": "https://localhost:8080/"
    },
    "id": "kFePdmdS-YCi",
    "outputId": "1a735cab-695b-4c96-a945-38cc681d9650"
   },
   "outputs": [
    {
     "name": "stdout",
     "output_type": "stream",
     "text": [
      "Train loss: 1.0026479959487915\n"
     ]
    }
   ],
   "source": [
    "# compute performance on training dataset\n",
    "loss_fn = triplet_loss(margin)\n",
    "for i, batch in enumerate(tl_train_gen):\n",
    "  predictions = siamese_model_2.predict(batch[0], verbose=0)\n",
    "  predictions = tf.convert_to_tensor(predictions)\n",
    "  loss += loss_fn(batch[1], predictions)\n",
    "\n",
    "print(f'Train loss: {loss/(i+1)}')"
   ]
  },
  {
   "cell_type": "code",
   "execution_count": null,
   "metadata": {
    "colab": {
     "base_uri": "https://localhost:8080/"
    },
    "id": "AJHYlBZr-i9d",
    "outputId": "f4bab909-e51c-46f4-d92f-6f465bd78967"
   },
   "outputs": [
    {
     "name": "stdout",
     "output_type": "stream",
     "text": [
      "All dataset loss: 2.00185227394104\n"
     ]
    }
   ],
   "source": [
    "# compute performance on all dataset\n",
    "for i, batch in enumerate(tl_combined_gen):\n",
    "  predictions = siamese_model_2.predict(batch[0], verbose=0)\n",
    "  predictions = tf.convert_to_tensor(predictions)\n",
    "  loss += loss_fn(batch[1], predictions)\n",
    "\n",
    "print(f'All dataset loss: {loss/(i+1)}')"
   ]
  },
  {
   "cell_type": "code",
   "execution_count": null,
   "metadata": {
    "colab": {
     "base_uri": "https://localhost:8080/"
    },
    "id": "By_MNqFHSI41",
    "outputId": "c57f42fd-61b7-4c39-d541-fe2e6d3f29ce"
   },
   "outputs": [
    {
     "name": "stdout",
     "output_type": "stream",
     "text": [
      "Test loss: 3.0007786750793457\n"
     ]
    }
   ],
   "source": [
    "# compute performance on test dataset\n",
    "for i, batch in enumerate(tl_test_gen):\n",
    "  predictions = siamese_model_2.predict(batch[0], verbose=0)\n",
    "  predictions = tf.convert_to_tensor(predictions)\n",
    "  loss += loss_fn(batch[1], predictions)\n",
    "\n",
    "print(f'Test loss: {loss/(i+1)}')"
   ]
  },
  {
   "cell_type": "code",
   "execution_count": null,
   "metadata": {
    "colab": {
     "base_uri": "https://localhost:8080/",
     "height": 212
    },
    "id": "nBW0toDmKkvC",
    "outputId": "3535695b-83be-443b-c700-1601267652ec"
   },
   "outputs": [
    {
     "name": "stdout",
     "output_type": "stream",
     "text": [
      "Triplet loss of the example:  1.0017498\n"
     ]
    },
    {
     "data": {
      "image/png": "[encoded data removed]",
      "text/plain": [
       "<Figure size 576x1080 with 3 Axes>"
      ]
     },
     "metadata": {
      "needs_background": "light"
     },
     "output_type": "display_data"
    }
   ],
   "source": [
    "tl_vis_gen = TripletDataGenerator(X_test, Y_test, 1, steps_per_epoch)\n",
    "for batch in tl_vis_gen:\n",
    "  # print(batch)\n",
    "  predictions = siamese_model_2.predict(batch[0], verbose=0)\n",
    "  predictions = tf.convert_to_tensor(predictions)\n",
    "  loss = loss_fn(batch[1], predictions)\n",
    "  print('Triplet loss of the example: ', loss.numpy())\n",
    "  print_tl_batch(*batch)\n",
    "  break\n"
   ]
  }
 ],
 "metadata": {
  "accelerator": "GPU",
  "colab": {
   "collapsed_sections": [],
   "machine_shape": "hm",
   "name": "my_submission.ipynb",
   "provenance": [],
   "toc_visible": true
  },
  "kernelspec": {
   "display_name": "Python 3",
   "language": "python",
   "name": "python3"
  },
  "language_info": {
   "codemirror_mode": {
    "name": "ipython",
    "version": 3
   },
   "file_extension": ".py",
   "mimetype": "text/x-python",
   "name": "python",
   "nbconvert_exporter": "python",
   "pygments_lexer": "ipython3",
   "version": "3.7.6"
  }
 },
 "nbformat": 4,
 "nbformat_minor": 1
}
